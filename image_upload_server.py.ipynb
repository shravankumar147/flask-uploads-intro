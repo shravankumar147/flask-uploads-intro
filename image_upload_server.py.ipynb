{
 "cells": [
  {
   "cell_type": "code",
   "execution_count": 3,
   "metadata": {},
   "outputs": [
    {
     "name": "stderr",
     "output_type": "stream",
     "text": [
      "/home/shravan/anaconda3/lib/python3.6/site-packages/sklearn/base.py:315: UserWarning: Trying to unpickle estimator LinearSVC from version 0.19.0 when using version 0.18.1. This might lead to breaking code or invalid results. Use at your own risk.\n",
      "  UserWarning)\n"
     ]
    }
   ],
   "source": [
    "from flask import Flask, render_template, request\n",
    "from flask_uploads import UploadSet, IMAGES, configure_uploads\n",
    "\n",
    "app = Flask(__name__)\n",
    "\n",
    "photos = UploadSet('photos', [IMAGES, 'pgm'])\n",
    "app.config['UPLOADED_PHOTOS_DEST'] = 'static/img'\n",
    "configure_uploads(app, photos)\n",
    "\n",
    "import numpy as np\n",
    "import os\n",
    "from sklearn.externals import joblib\n",
    "from skimage import io\n",
    "from skimage.color import rgb2gray\n",
    "from skimage import exposure, feature, transform\n",
    "from flask import jsonify, json\n",
    "\n",
    "svc = joblib.load('./clf/clf_svc_hog.pkl')\n",
    "\n",
    "def feature_extract(image):\n",
    "    gray_img = rgb2gray(image)\n",
    "    (image_feat, hogImage) = feature.hog(gray_img, orientations=9, pixels_per_cell=(8,8),\n",
    "    cells_per_block=(2,2), transform_sqrt=True, visualise=True)\n",
    "    image_feat = image_feat.reshape(1, -1)\n",
    "    return image_feat\n",
    "\n",
    "def predict_face(im_path):\n",
    "    image =io.imread(im_path)\n",
    "    image_feat = feature_extract(image)\n",
    "    pred_label = svc.predict(image_feat)[0]\n",
    "    result = json.dumps({'results':pred_label},indent=4)\n",
    "    return result\n",
    "\n",
    "@app.route('/')\n",
    "def index():\n",
    "    return render_template('index.html')\n",
    "\n",
    "@app.route('/upload', methods=['GET', 'POST'])\n",
    "def upload():\n",
    "    if request.method == 'POST' and 'photo' in request.files:\n",
    "        filename = photos.save(request.files['photo'])\n",
    "        f = os.path.join(app.config['UPLOADED_PHOTOS_DEST'],filename)\n",
    "        return predict_face(f)\n",
    "#         return predict_face('static/img'+'/'+filename)\n",
    "    return render_template('upload.html')\n"
   ]
  },
  {
   "cell_type": "code",
   "execution_count": null,
   "metadata": {},
   "outputs": [
    {
     "name": "stderr",
     "output_type": "stream",
     "text": [
      " * Running on http://127.0.0.1:5000/ (Press CTRL+C to quit)\n",
      "127.0.0.1 - - [25/Sep/2017 22:40:12] \"\u001b[37mGET /upload HTTP/1.1\u001b[0m\" 200 -\n",
      "/home/shravan/anaconda3/lib/python3.6/site-packages/skimage/feature/_hog.py:119: skimage_deprecation: Default value of `block_norm`==`L1` is deprecated and will be changed to `L2-Hys` in v0.15\n",
      "  'be changed to `L2-Hys` in v0.15', skimage_deprecation)\n",
      "127.0.0.1 - - [25/Sep/2017 22:40:16] \"\u001b[37mPOST /upload HTTP/1.1\u001b[0m\" 200 -\n"
     ]
    }
   ],
   "source": [
    "app.run(port=5000)"
   ]
  },
  {
   "cell_type": "code",
   "execution_count": null,
   "metadata": {
    "collapsed": true
   },
   "outputs": [],
   "source": []
  }
 ],
 "metadata": {
  "kernelspec": {
   "display_name": "Python 3",
   "language": "python",
   "name": "python3"
  },
  "language_info": {
   "codemirror_mode": {
    "name": "ipython",
    "version": 3
   },
   "file_extension": ".py",
   "mimetype": "text/x-python",
   "name": "python",
   "nbconvert_exporter": "python",
   "pygments_lexer": "ipython3",
   "version": "3.6.1"
  }
 },
 "nbformat": 4,
 "nbformat_minor": 2
}
